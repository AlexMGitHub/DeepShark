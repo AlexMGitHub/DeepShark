{
 "cells": [
  {
   "cell_type": "markdown",
   "id": "63812b5e-4d0f-4b6b-9d72-f8a3de67154d",
   "metadata": {
    "tags": []
   },
   "source": [
    "## Parse and visualize Texas Hold 'Em tournament results\n",
    "\n",
    "I created the HeuristicAI with the tight-aggressive and loose-aggressive play styles.  I was curious to see which play style would tend to win more often.  I ran 100 tournaments to pit them against each other.\n",
    "\n",
    "Based on these tournament results I refined the play style and performed additional experiments."
   ]
  },
  {
   "cell_type": "code",
   "execution_count": 1,
   "id": "51414887-7f80-4a35-a501-0b71dd329976",
   "metadata": {
    "tags": []
   },
   "outputs": [],
   "source": [
    "# Imports\n",
    "###############################################################################\n",
    "# Standard system imports\n",
    "import ctypes\n",
    "from os import listdir\n",
    "from os.path import isfile, join\n",
    "# Related third party imports\n",
    "import numpy as np\n",
    "import pandas as pd\n",
    "import seaborn as sns\n",
    "# Local application/library specific imports\n",
    "\n",
    "sns.set_style(\"darkgrid\")"
   ]
  },
  {
   "cell_type": "code",
   "execution_count": 2,
   "id": "c7f04758-3b3d-40ae-b700-8b353fcee265",
   "metadata": {
    "tags": []
   },
   "outputs": [],
   "source": [
    "# Classes used to contain data\n",
    "###############################################################################\n",
    "class TournamentSummary(ctypes.Structure):\n",
    "    \"\"\"Creates a tournament_summary struct.\"\"\"\n",
    "\n",
    "    _fields_ = [('tournament_number', ctypes.c_int),\n",
    "                ('random_seed', ctypes.c_int),\n",
    "                ('initial_player_count', ctypes.c_int),\n",
    "                ('player_ai_types', ctypes.POINTER(ctypes.c_int)),\n",
    "                ('finishing_order', ctypes.POINTER(ctypes.c_int)),\n",
    "                ('game_eliminated', ctypes.POINTER(ctypes.c_int)),\n",
    "                ('num_games', ctypes.c_size_t)]\n",
    "\n",
    "\n",
    "class PythonTournamentSummary:\n",
    "    \"\"\"Creates a tournament summary for parsing in Python.\"\"\"\n",
    "\n",
    "    def __init__(self, th, player_ai_types, finishing_order, game_eliminated):\n",
    "        self.tournament_number = th.tournament_number\n",
    "        self.random_seed = th.random_seed\n",
    "        self.initial_player_count = th.initial_player_count\n",
    "        self.player_ai_types = player_ai_types\n",
    "        self.finishing_order = finishing_order\n",
    "        self.game_eliminated = game_eliminated\n",
    "        self.num_games = th.num_games\n",
    "\n"
   ]
  },
  {
   "cell_type": "code",
   "execution_count": 3,
   "id": "cdae2685-aa4a-4492-94c5-4eacc62f0a69",
   "metadata": {
    "tags": []
   },
   "outputs": [
    {
     "name": "stdout",
     "output_type": "stream",
     "text": [
      "9\n"
     ]
    }
   ],
   "source": [
    "# Initialize and test C shared library\n",
    "###############################################################################\n",
    "# Location of C shared library\n",
    "c_lib = ctypes.CDLL(\"../../Cpp/lib/lib_deepshark.so\")\n",
    "# %% Set data types of test C function's arguments and return value\n",
    "add_ints = c_lib.add_ints\n",
    "add_ints.argtypes = [ctypes.c_int, ctypes.c_int]\n",
    "add_ints.restype = ctypes.c_int  # C function returns integer\n",
    "# Test C function\n",
    "result = add_ints(4, 5)\n",
    "print(result)"
   ]
  },
  {
   "cell_type": "code",
   "execution_count": 4,
   "id": "51c5b083-fdec-49fb-bdc9-610095094aa8",
   "metadata": {
    "tags": []
   },
   "outputs": [],
   "source": [
    "# Initalize C function to get tournament results\n",
    "###############################################################################\n",
    "tourn_summary = c_lib.get_tournament_summary\n",
    "tourn_summary.argtypes = [ctypes.POINTER(\n",
    "    TournamentSummary), ctypes.POINTER(ctypes.c_char)]\n",
    "tourn_summary.restype = None"
   ]
  },
  {
   "cell_type": "code",
   "execution_count": 5,
   "id": "fd4320a4-315e-4f44-b555-b08be23baf12",
   "metadata": {
    "tags": []
   },
   "outputs": [],
   "source": [
    "# Function to parse and store tournament results\n",
    "###############################################################################\n",
    "def summarize_tournament_results(tourn_directory):\n",
    "    tourn_files = [join(tourn_directory, f) for f in listdir(\n",
    "        tourn_directory) if isfile(join(tourn_directory, f))]\n",
    "    summary_list = list()\n",
    "    for tourn in tourn_files:\n",
    "        # Encode filename as a pointer to array of chars\n",
    "        b_fn = tourn.encode(\"utf-8\")  # create byte objects from the strings\n",
    "        filename = ctypes.c_char_p(b_fn)\n",
    "        # Instantiate struct to contain summary results\n",
    "        th = TournamentSummary()\n",
    "        th_ptr = ctypes.pointer(th)\n",
    "        \n",
    "        # Create NumPy arrays to store finishing order and game eliminated arrays\n",
    "        player_ai_types_arr = np.zeros(10, dtype=np.intc)\n",
    "        player_ai_types_ptr = player_ai_types_arr.ctypes.data_as(\n",
    "            ctypes.POINTER(ctypes.c_int))\n",
    "        th.player_ai_types = player_ai_types_ptr\n",
    "        \n",
    "        finishing_order_arr = np.zeros(10, dtype=np.intc)\n",
    "        finishing_order_ptr = finishing_order_arr.ctypes.data_as(\n",
    "            ctypes.POINTER(ctypes.c_int))\n",
    "        th.finishing_order = finishing_order_ptr\n",
    "\n",
    "        game_eliminated_arr = np.zeros(10, dtype=np.intc)\n",
    "        game_eliminated_ptr = game_eliminated_arr.ctypes.data_as(\n",
    "            ctypes.POINTER(ctypes.c_int))\n",
    "        th.game_eliminated = game_eliminated_ptr\n",
    "        \n",
    "        # Pass pointer to struct and filename to C function\n",
    "        tourn_summary(th_ptr, filename)\n",
    "        # Transfer results to Python class and append to list\n",
    "        pth = PythonTournamentSummary(th, player_ai_types_arr, finishing_order_arr, game_eliminated_arr)\n",
    "        summary_list.append(pth)\n",
    "    return summary_list"
   ]
  },
  {
   "cell_type": "markdown",
   "id": "606c7fb4-0ef2-4fb2-a3ad-337f1e9e08ce",
   "metadata": {},
   "source": [
    "## TAG vs. LAG Tournament Results\n",
    "\n",
    "Now, let's compare the performance of the tight-aggressive (TAG) player versus the loose-aggressive (LAG) player by simulating 100 ten-player tournaments.  Half the players in each tournament will be TAGs and the other half LAGs.  I simulated the tournaments and recorded the data to disk using the *generate_training_data.py* contained in `src/deepshark`.  For some reason running this code in a Jupyter notebook causes the Jupyter kernel to crash and restart, but it runs without issue from a Python script."
   ]
  },
  {
   "cell_type": "code",
   "execution_count": 6,
   "id": "26b262a1-74d1-4e7e-bea9-ea6deb0df893",
   "metadata": {
    "tags": []
   },
   "outputs": [],
   "source": [
    "# Specify directory containing recorded tournaments and parse data\n",
    "tourn_directory = \"../../../recorded_games/2023-12-31/tag_lag/\"  # Must update this field\n",
    "summary_list = summarize_tournament_results(tourn_directory)"
   ]
  },
  {
   "cell_type": "code",
   "execution_count": 7,
   "id": "1f701384-000b-466d-86c8-d15f3ba231f4",
   "metadata": {
    "tags": []
   },
   "outputs": [
    {
     "name": "stdout",
     "output_type": "stream",
     "text": [
      "LAG tournament win count = 56\n",
      "TAG tournament win count = 44\n",
      "LAG average game count per tournament = 173.80357142857142\n",
      "TAG average game count per tournament = 206.04545454545453\n"
     ]
    }
   ],
   "source": [
    "# Post-process tournament results\n",
    "###############################################################################\n",
    "lag_count = 0\n",
    "tag_count = 0\n",
    "\n",
    "lag_game_count = []\n",
    "tag_game_count = []\n",
    "\n",
    "for summ in summary_list:\n",
    "    tourn_winner = summ.finishing_order[summ.initial_player_count-1]\n",
    "    if summ.player_ai_types[tourn_winner] == 3:\n",
    "        tag_count += 1\n",
    "        tag_game_count.append(summ.game_eliminated[summ.initial_player_count-1])\n",
    "    elif summ.player_ai_types[tourn_winner] == 4:\n",
    "        lag_count += 1\n",
    "        lag_game_count.append(summ.game_eliminated[summ.initial_player_count-1])\n",
    "\n",
    "print(f\"LAG tournament win count = {lag_count}\")\n",
    "print(f\"TAG tournament win count = {tag_count}\")\n",
    "\n",
    "print(f\"LAG average game count per tournament = {np.average(lag_game_count)}\")\n",
    "print(f\"TAG average game count per tournament = {np.average(tag_game_count)}\")"
   ]
  },
  {
   "cell_type": "code",
   "execution_count": 8,
   "id": "d8032db7-70ac-49c1-84bb-6ec811951713",
   "metadata": {
    "tags": []
   },
   "outputs": [
    {
     "data": {
      "text/html": [
       "<div>\n",
       "<style scoped>\n",
       "    .dataframe tbody tr th:only-of-type {\n",
       "        vertical-align: middle;\n",
       "    }\n",
       "\n",
       "    .dataframe tbody tr th {\n",
       "        vertical-align: top;\n",
       "    }\n",
       "\n",
       "    .dataframe thead th {\n",
       "        text-align: right;\n",
       "    }\n",
       "</style>\n",
       "<table border=\"1\" class=\"dataframe\">\n",
       "  <thead>\n",
       "    <tr style=\"text-align: right;\">\n",
       "      <th></th>\n",
       "      <th>Result</th>\n",
       "      <th>TAG</th>\n",
       "      <th>LAG</th>\n",
       "    </tr>\n",
       "  </thead>\n",
       "  <tbody>\n",
       "    <tr>\n",
       "      <th>0</th>\n",
       "      <td>10</td>\n",
       "      <td>22.0</td>\n",
       "      <td>78.0</td>\n",
       "    </tr>\n",
       "    <tr>\n",
       "      <th>1</th>\n",
       "      <td>9</td>\n",
       "      <td>32.0</td>\n",
       "      <td>68.0</td>\n",
       "    </tr>\n",
       "    <tr>\n",
       "      <th>2</th>\n",
       "      <td>8</td>\n",
       "      <td>34.0</td>\n",
       "      <td>66.0</td>\n",
       "    </tr>\n",
       "    <tr>\n",
       "      <th>3</th>\n",
       "      <td>7</td>\n",
       "      <td>41.0</td>\n",
       "      <td>59.0</td>\n",
       "    </tr>\n",
       "    <tr>\n",
       "      <th>4</th>\n",
       "      <td>6</td>\n",
       "      <td>49.0</td>\n",
       "      <td>51.0</td>\n",
       "    </tr>\n",
       "    <tr>\n",
       "      <th>5</th>\n",
       "      <td>5</td>\n",
       "      <td>60.0</td>\n",
       "      <td>40.0</td>\n",
       "    </tr>\n",
       "    <tr>\n",
       "      <th>6</th>\n",
       "      <td>4</td>\n",
       "      <td>69.0</td>\n",
       "      <td>31.0</td>\n",
       "    </tr>\n",
       "    <tr>\n",
       "      <th>7</th>\n",
       "      <td>3</td>\n",
       "      <td>79.0</td>\n",
       "      <td>21.0</td>\n",
       "    </tr>\n",
       "    <tr>\n",
       "      <th>8</th>\n",
       "      <td>2</td>\n",
       "      <td>70.0</td>\n",
       "      <td>30.0</td>\n",
       "    </tr>\n",
       "    <tr>\n",
       "      <th>9</th>\n",
       "      <td>1</td>\n",
       "      <td>44.0</td>\n",
       "      <td>56.0</td>\n",
       "    </tr>\n",
       "  </tbody>\n",
       "</table>\n",
       "</div>"
      ],
      "text/plain": [
       "   Result   TAG   LAG\n",
       "0      10  22.0  78.0\n",
       "1       9  32.0  68.0\n",
       "2       8  34.0  66.0\n",
       "3       7  41.0  59.0\n",
       "4       6  49.0  51.0\n",
       "5       5  60.0  40.0\n",
       "6       4  69.0  31.0\n",
       "7       3  79.0  21.0\n",
       "8       2  70.0  30.0\n",
       "9       1  44.0  56.0"
      ]
     },
     "execution_count": 8,
     "metadata": {},
     "output_type": "execute_result"
    }
   ],
   "source": [
    "tag_finishing_order_arr = np.zeros(10)\n",
    "lag_finishing_order_arr = np.zeros(10)\n",
    "\n",
    "for summ in summary_list:\n",
    "    for idx, plyr in enumerate(summ.finishing_order):\n",
    "        if summ.player_ai_types[plyr] == 3: # TAG\n",
    "            tag_finishing_order_arr[idx] += 1\n",
    "        elif summ.player_ai_types[plyr] == 4: # LAG\n",
    "            lag_finishing_order_arr[idx] += 1\n",
    "\n",
    "cnt = summ.initial_player_count\n",
    "tag_lag_df = pd.DataFrame(\n",
    "    {\n",
    "        \"Result\": [cnt-idx for idx in range(cnt)],\n",
    "        \"TAG\": [x for x in tag_finishing_order_arr],\n",
    "        \"LAG\": [x for x in lag_finishing_order_arr]\n",
    "    }\n",
    ")\n",
    "\n",
    "tag_lag_df"
   ]
  },
  {
   "cell_type": "code",
   "execution_count": 9,
   "id": "f979de50-438c-4786-815a-f8dfc79b4223",
   "metadata": {
    "tags": []
   },
   "outputs": [
    {
     "data": {
      "text/plain": [
       "<Axes: xlabel='Result'>"
      ]
     },
     "execution_count": 9,
     "metadata": {},
     "output_type": "execute_result"
    },
    {
     "data": {
      "image/png": "[encoded data removed]",
      "text/plain": [
       "<Figure size 640x480 with 1 Axes>"
      ]
     },
     "metadata": {},
     "output_type": "display_data"
    }
   ],
   "source": [
    "tag_lag_df.set_index(\"Result\").plot(kind='bar', stacked=True)"
   ]
  },
  {
   "cell_type": "markdown",
   "id": "c815db5f-d243-4ac8-af07-3274115d4084",
   "metadata": {
    "tags": []
   },
   "source": [
    "### Tournament Results: TAG vs. LAG\n",
    "\n",
    "An interesting result: the loose-aggressive players (LAG) were substantially more likely to be eliminated at the beginning of the tournament than the tight aggressive players (TAG), but overall the LAGs won the tournament more often than the TAGs.\n",
    "\n",
    "The tight-aggressive TAGs only play the very best starting hands, while the loose-aggressive LAGs play a wider range of starting hands.  This means that the LAGs will often play weaker hands than the TAGs.  In the beginning of the tournament when the blinds are small and the table has many players, playing weakers hands is often punished because more players at the table means more hands being dealt - and thus a higher chance of a better hand being dealt to an opponent.  Meanwhile, playing tight and folding a lot of hands has little cost when the blinds are small.\n",
    "\n",
    "As the tournament proceeds players will be eliminated from the table, and the blinds schedule will increase the blinds value to a more significant size.  Fewer players means that playing weaker hands has less risk, as it is less likely that an opponent will be dealt a better hand.  And playing too tight means folding hands that might be winners.  When the blinds were small at the beginning of the tournament the cost of playing too tight was negligible, but later in the tournament the blinds begin to eat away at players' chip stacks.  A too-tight player will then be punished by looser players \"stealing\" the blinds simply by being willing to play a wider range of hands than the tight players.  If a LAG player makes it to this late stage of the tournament it will have an advantage over the TAG - especially in heads-up play where the TAG will be losing at least a small blind worth of chips every time it folds.\n",
    "\n",
    "If this is the case, then a significant improvement to the TAG's play style can made simply by having it switch to a wider list of starting hands when playing heads-up.  To do this, I simply added a new play style to the Heuristic AI that plays identical to the TAG up until there are three or fewer remaining players in the tournament, at which point it uses the LAG's list of starting hands to determine whether or not to fold."
   ]
  },
  {
   "cell_type": "markdown",
   "id": "8f72f97a-e82f-44ae-a5ce-946f90df2d60",
   "metadata": {},
   "source": [
    "## Modified Tight-Aggressive (MTAG) Tournament Performance\n",
    "\n",
    "I called this new play style modified tight-aggressive or MTAG.  I decided to try three scenarios: \n",
    "\n",
    "1. MTAG vs. LAG: 100 ten-player tournaments, split equally 5 vs. 5\n",
    "\n",
    "2. MTAG vs. TAG: 100 ten-player tournaments, split equally 5 vs. 5\n",
    "\n",
    "3. MTAG vs. LAG vs. TAG: 300 ten-player tournaments, split 3 vs. 3 vs. 3 with the 10th player alternating between TAG, LAG, and MTAG\n",
    "\n",
    "The third scenario will re-use the same 100 seeds for the 300 tournaments; meaning that each seed will be played three times with the 10th player of the tournament being either the TAG, LAG, or MTAG.\n"
   ]
  },
  {
   "cell_type": "markdown",
   "id": "7b2b8062-f45e-4385-9588-986d0cb521d3",
   "metadata": {},
   "source": [
    "### MTAG vs. LAG"
   ]
  },
  {
   "cell_type": "code",
   "execution_count": 10,
   "id": "faff6eb6-3d16-4813-888a-86fd279c8f8d",
   "metadata": {
    "tags": []
   },
   "outputs": [],
   "source": [
    "# Specify directory containing recorded tournaments and parse data\n",
    "tourn_directory = \"../../../recorded_games/2023-12-31/mtag_lag/\"  # Must update this field\n",
    "summary_list = summarize_tournament_results(tourn_directory)"
   ]
  },
  {
   "cell_type": "code",
   "execution_count": 11,
   "id": "4b05f2c3-73e5-44da-9e69-26d7137bf487",
   "metadata": {
    "tags": []
   },
   "outputs": [
    {
     "name": "stdout",
     "output_type": "stream",
     "text": [
      "[22. 32. 34. 41. 49. 60. 69. 78. 63. 52.]\n",
      "[78. 68. 66. 59. 51. 40. 31. 22. 37. 48.]\n"
     ]
    }
   ],
   "source": [
    "# Post-process tournament results\n",
    "###############################################################################\n",
    "mtag_finishing_order_arr = np.zeros(10)\n",
    "lag_finishing_order_arr = np.zeros(10)\n",
    "\n",
    "for summ in summary_list:\n",
    "    for idx, plyr in enumerate(summ.finishing_order):\n",
    "        if summ.player_ai_types[plyr] == 5: # MTAG\n",
    "            mtag_finishing_order_arr[idx] += 1\n",
    "        elif summ.player_ai_types[plyr] == 4: # LAG\n",
    "            lag_finishing_order_arr[idx] += 1\n",
    "\n",
    "print(mtag_finishing_order_arr)\n",
    "print(lag_finishing_order_arr)"
   ]
  },
  {
   "cell_type": "code",
   "execution_count": 12,
   "id": "982c6598-2546-4ea4-ade9-d37991a7d271",
   "metadata": {
    "tags": []
   },
   "outputs": [
    {
     "data": {
      "text/html": [
       "<div>\n",
       "<style scoped>\n",
       "    .dataframe tbody tr th:only-of-type {\n",
       "        vertical-align: middle;\n",
       "    }\n",
       "\n",
       "    .dataframe tbody tr th {\n",
       "        vertical-align: top;\n",
       "    }\n",
       "\n",
       "    .dataframe thead th {\n",
       "        text-align: right;\n",
       "    }\n",
       "</style>\n",
       "<table border=\"1\" class=\"dataframe\">\n",
       "  <thead>\n",
       "    <tr style=\"text-align: right;\">\n",
       "      <th></th>\n",
       "      <th>Result</th>\n",
       "      <th>MTAG</th>\n",
       "      <th>LAG</th>\n",
       "    </tr>\n",
       "  </thead>\n",
       "  <tbody>\n",
       "    <tr>\n",
       "      <th>0</th>\n",
       "      <td>10</td>\n",
       "      <td>22.0</td>\n",
       "      <td>78.0</td>\n",
       "    </tr>\n",
       "    <tr>\n",
       "      <th>1</th>\n",
       "      <td>9</td>\n",
       "      <td>32.0</td>\n",
       "      <td>68.0</td>\n",
       "    </tr>\n",
       "    <tr>\n",
       "      <th>2</th>\n",
       "      <td>8</td>\n",
       "      <td>34.0</td>\n",
       "      <td>66.0</td>\n",
       "    </tr>\n",
       "    <tr>\n",
       "      <th>3</th>\n",
       "      <td>7</td>\n",
       "      <td>41.0</td>\n",
       "      <td>59.0</td>\n",
       "    </tr>\n",
       "    <tr>\n",
       "      <th>4</th>\n",
       "      <td>6</td>\n",
       "      <td>49.0</td>\n",
       "      <td>51.0</td>\n",
       "    </tr>\n",
       "    <tr>\n",
       "      <th>5</th>\n",
       "      <td>5</td>\n",
       "      <td>60.0</td>\n",
       "      <td>40.0</td>\n",
       "    </tr>\n",
       "    <tr>\n",
       "      <th>6</th>\n",
       "      <td>4</td>\n",
       "      <td>69.0</td>\n",
       "      <td>31.0</td>\n",
       "    </tr>\n",
       "    <tr>\n",
       "      <th>7</th>\n",
       "      <td>3</td>\n",
       "      <td>78.0</td>\n",
       "      <td>22.0</td>\n",
       "    </tr>\n",
       "    <tr>\n",
       "      <th>8</th>\n",
       "      <td>2</td>\n",
       "      <td>63.0</td>\n",
       "      <td>37.0</td>\n",
       "    </tr>\n",
       "    <tr>\n",
       "      <th>9</th>\n",
       "      <td>1</td>\n",
       "      <td>52.0</td>\n",
       "      <td>48.0</td>\n",
       "    </tr>\n",
       "  </tbody>\n",
       "</table>\n",
       "</div>"
      ],
      "text/plain": [
       "   Result  MTAG   LAG\n",
       "0      10  22.0  78.0\n",
       "1       9  32.0  68.0\n",
       "2       8  34.0  66.0\n",
       "3       7  41.0  59.0\n",
       "4       6  49.0  51.0\n",
       "5       5  60.0  40.0\n",
       "6       4  69.0  31.0\n",
       "7       3  78.0  22.0\n",
       "8       2  63.0  37.0\n",
       "9       1  52.0  48.0"
      ]
     },
     "execution_count": 12,
     "metadata": {},
     "output_type": "execute_result"
    }
   ],
   "source": [
    "cnt = summ.initial_player_count\n",
    "mtag_vs_lag_df = pd.DataFrame(\n",
    "    {\n",
    "        \"Result\": [cnt-idx for idx in range(cnt)],\n",
    "        \"MTAG\": [x for x in mtag_finishing_order_arr],\n",
    "        \"LAG\": [x for x in lag_finishing_order_arr]\n",
    "    }\n",
    ")\n",
    "mtag_vs_lag_df"
   ]
  },
  {
   "cell_type": "code",
   "execution_count": 13,
   "id": "4eeeaf7f-b5e7-413d-9a1e-d277962299b6",
   "metadata": {
    "tags": []
   },
   "outputs": [
    {
     "data": {
      "text/plain": [
       "<Axes: xlabel='Result'>"
      ]
     },
     "execution_count": 13,
     "metadata": {},
     "output_type": "execute_result"
    },
    {
     "data": {
      "image/png": "[encoded data removed]",
      "text/plain": [
       "<Figure size 640x480 with 1 Axes>"
      ]
     },
     "metadata": {},
     "output_type": "display_data"
    }
   ],
   "source": [
    "mtag_vs_lag_df.set_index(\"Result\").plot(kind='bar', stacked=True)"
   ]
  },
  {
   "cell_type": "markdown",
   "id": "c9931a9b-d087-4438-a13c-c228c449e302",
   "metadata": {},
   "source": [
    "### MTAG vs. LAG Results\n",
    "\n",
    "The LAG places at the bottom ranking of the tournament much more frequently than the MTAG as expected, since the MTAG plays identically to the TAG at the beginning of the tournament.  However, the MTAG only has a very slight advantage in actually winning the tournament over the LAG (52 wins for the MTAG versus 48 wins for the LAG players).  This makes sense, as the MTAGs play identically to the LAGs once there are three or fewer players left in the tournament.  That being said, it's perhaps a bit surprising that the MTAG's early advantage didn't eliminate the LAG players often enough to garner a larger advantage in the final stages of the tournament.  It could be that playing loose against other loose players means that one LAG benefits from a winner-take-all outcome: the LAG players who are eliminated are largely eliminated by other LAG players and thus have large chip stacks going into the later stages of the tournament.  This may play an even bigger role in winning the tournament than the blind-stealing.\n",
    "\n",
    "\n",
    "### MTAG vs. TAG"
   ]
  },
  {
   "cell_type": "code",
   "execution_count": 14,
   "id": "b6675f6d-74e7-408b-8d14-7fba78cebb66",
   "metadata": {
    "tags": []
   },
   "outputs": [],
   "source": [
    "# Specify directory containing recorded tournaments and parse data\n",
    "tourn_directory = \"../../../recorded_games/2023-12-31/mtag_tag/\"  # Must update this field\n",
    "summary_list = summarize_tournament_results(tourn_directory)"
   ]
  },
  {
   "cell_type": "code",
   "execution_count": 15,
   "id": "5e779507-fd1d-406f-a755-9cfc24d8a226",
   "metadata": {
    "tags": []
   },
   "outputs": [
    {
     "name": "stdout",
     "output_type": "stream",
     "text": [
      "[51. 41. 49. 50. 44. 55. 56. 43. 49. 62.]\n",
      "[49. 59. 51. 50. 56. 45. 44. 57. 51. 38.]\n"
     ]
    }
   ],
   "source": [
    "# Post-process tournament results\n",
    "###############################################################################\n",
    "mtag_finishing_order_arr = np.zeros(10)\n",
    "tag_finishing_order_arr = np.zeros(10)\n",
    "\n",
    "for summ in summary_list:\n",
    "    for idx, plyr in enumerate(summ.finishing_order):\n",
    "        if summ.player_ai_types[plyr] == 5: # MTAG\n",
    "            mtag_finishing_order_arr[idx] += 1\n",
    "        elif summ.player_ai_types[plyr] == 3: # TAG\n",
    "            tag_finishing_order_arr[idx] += 1\n",
    "\n",
    "print(mtag_finishing_order_arr)\n",
    "print(tag_finishing_order_arr)"
   ]
  },
  {
   "cell_type": "code",
   "execution_count": 16,
   "id": "b077100d-9e00-47ac-964f-c71201eaa464",
   "metadata": {
    "tags": []
   },
   "outputs": [
    {
     "data": {
      "text/html": [
       "<div>\n",
       "<style scoped>\n",
       "    .dataframe tbody tr th:only-of-type {\n",
       "        vertical-align: middle;\n",
       "    }\n",
       "\n",
       "    .dataframe tbody tr th {\n",
       "        vertical-align: top;\n",
       "    }\n",
       "\n",
       "    .dataframe thead th {\n",
       "        text-align: right;\n",
       "    }\n",
       "</style>\n",
       "<table border=\"1\" class=\"dataframe\">\n",
       "  <thead>\n",
       "    <tr style=\"text-align: right;\">\n",
       "      <th></th>\n",
       "      <th>Result</th>\n",
       "      <th>MTAG</th>\n",
       "      <th>TAG</th>\n",
       "    </tr>\n",
       "  </thead>\n",
       "  <tbody>\n",
       "    <tr>\n",
       "      <th>0</th>\n",
       "      <td>10</td>\n",
       "      <td>51.0</td>\n",
       "      <td>49.0</td>\n",
       "    </tr>\n",
       "    <tr>\n",
       "      <th>1</th>\n",
       "      <td>9</td>\n",
       "      <td>41.0</td>\n",
       "      <td>59.0</td>\n",
       "    </tr>\n",
       "    <tr>\n",
       "      <th>2</th>\n",
       "      <td>8</td>\n",
       "      <td>49.0</td>\n",
       "      <td>51.0</td>\n",
       "    </tr>\n",
       "    <tr>\n",
       "      <th>3</th>\n",
       "      <td>7</td>\n",
       "      <td>50.0</td>\n",
       "      <td>50.0</td>\n",
       "    </tr>\n",
       "    <tr>\n",
       "      <th>4</th>\n",
       "      <td>6</td>\n",
       "      <td>44.0</td>\n",
       "      <td>56.0</td>\n",
       "    </tr>\n",
       "    <tr>\n",
       "      <th>5</th>\n",
       "      <td>5</td>\n",
       "      <td>55.0</td>\n",
       "      <td>45.0</td>\n",
       "    </tr>\n",
       "    <tr>\n",
       "      <th>6</th>\n",
       "      <td>4</td>\n",
       "      <td>56.0</td>\n",
       "      <td>44.0</td>\n",
       "    </tr>\n",
       "    <tr>\n",
       "      <th>7</th>\n",
       "      <td>3</td>\n",
       "      <td>43.0</td>\n",
       "      <td>57.0</td>\n",
       "    </tr>\n",
       "    <tr>\n",
       "      <th>8</th>\n",
       "      <td>2</td>\n",
       "      <td>49.0</td>\n",
       "      <td>51.0</td>\n",
       "    </tr>\n",
       "    <tr>\n",
       "      <th>9</th>\n",
       "      <td>1</td>\n",
       "      <td>62.0</td>\n",
       "      <td>38.0</td>\n",
       "    </tr>\n",
       "  </tbody>\n",
       "</table>\n",
       "</div>"
      ],
      "text/plain": [
       "   Result  MTAG   TAG\n",
       "0      10  51.0  49.0\n",
       "1       9  41.0  59.0\n",
       "2       8  49.0  51.0\n",
       "3       7  50.0  50.0\n",
       "4       6  44.0  56.0\n",
       "5       5  55.0  45.0\n",
       "6       4  56.0  44.0\n",
       "7       3  43.0  57.0\n",
       "8       2  49.0  51.0\n",
       "9       1  62.0  38.0"
      ]
     },
     "execution_count": 16,
     "metadata": {},
     "output_type": "execute_result"
    }
   ],
   "source": [
    "cnt = summ.initial_player_count\n",
    "mtag_tag_df = pd.DataFrame(\n",
    "    {\n",
    "        \"Result\": [cnt-idx for idx in range(cnt)],\n",
    "        \"MTAG\": [x for x in mtag_finishing_order_arr],\n",
    "        \"TAG\": [x for x in tag_finishing_order_arr]\n",
    "    }\n",
    ")\n",
    "mtag_tag_df"
   ]
  },
  {
   "cell_type": "code",
   "execution_count": 17,
   "id": "530f7ed6-feea-4c10-aa7f-ee0acae71da3",
   "metadata": {
    "tags": []
   },
   "outputs": [
    {
     "data": {
      "text/plain": [
       "<Axes: xlabel='Result'>"
      ]
     },
     "execution_count": 17,
     "metadata": {},
     "output_type": "execute_result"
    },
    {
     "data": {
      "image/png": "[encoded data removed]",
      "text/plain": [
       "<Figure size 640x480 with 1 Axes>"
      ]
     },
     "metadata": {},
     "output_type": "display_data"
    }
   ],
   "source": [
    "mtag_tag_df.set_index(\"Result\").plot(kind='bar', stacked=True)"
   ]
  },
  {
   "cell_type": "markdown",
   "id": "51b2aa53-02b8-49b2-ba6b-26840b91fcbd",
   "metadata": {},
   "source": [
    "### MTAG vs. TAG Results\n",
    "\n",
    "The results in the early stages of the tournament are very even between the TAG and MTAG as expected, since their play style is identical.  The TAG has more third and second place finishes than the MTAG, but the MTAG has significantly more tournament victories than the TAG (62 for the MTAG versus 38 for the TAG).  This seems to indicate that playing looser in the final stages of the tournament does indeed provide an advantage over too-tight players.\n",
    "\n",
    "So far the MTAG play style does seem to be the best of both worlds compared to its two predecessors individually.  But what happens when all three play styles are present in the same tournament?\n",
    "\n",
    "### MTAG vs. LAG vs. TAG"
   ]
  },
  {
   "cell_type": "code",
   "execution_count": 18,
   "id": "9266b647-f7c8-4aa4-ac70-7a1f25f07ccf",
   "metadata": {
    "tags": []
   },
   "outputs": [],
   "source": [
    "# Specify directory containing recorded tournaments and parse data\n",
    "tourn_directory = \"../../../recorded_games/2023-12-31/mtag_lag_tag/\"  # Must update this field\n",
    "summary_list = summarize_tournament_results(tourn_directory)"
   ]
  },
  {
   "cell_type": "code",
   "execution_count": 19,
   "id": "33b6f503-40db-4790-9c3f-96a63b267a69",
   "metadata": {
    "tags": []
   },
   "outputs": [
    {
     "name": "stdout",
     "output_type": "stream",
     "text": [
      "LAG tournament win count = 106\n",
      "TAG tournament win count = 88\n",
      "MTAG tournament win count = 106\n",
      "LAG average game count per tournament = 173.21698113207546\n",
      "TAG average game count per tournament = 211.4090909090909\n",
      "MTAG average game count per tournament = 187.50943396226415\n"
     ]
    }
   ],
   "source": [
    "# Post-process tournament results\n",
    "###############################################################################\n",
    "lag_count = 0\n",
    "tag_count = 0\n",
    "mtag_count = 0\n",
    "\n",
    "lag_game_count = []\n",
    "tag_game_count = []\n",
    "mtag_game_count = []\n",
    "\n",
    "for summ in summary_list:\n",
    "    tourn_winner = summ.finishing_order[summ.initial_player_count - 1]\n",
    "    if summ.player_ai_types[tourn_winner] == 3: # TAG\n",
    "        tag_count += 1\n",
    "        tag_game_count.append(summ.game_eliminated[summ.initial_player_count-1])\n",
    "    elif summ.player_ai_types[tourn_winner] == 4: # LAG\n",
    "        lag_count += 1\n",
    "        lag_game_count.append(summ.game_eliminated[summ.initial_player_count-1])\n",
    "    elif summ.player_ai_types[tourn_winner] == 5: # MTAG\n",
    "        mtag_count += 1\n",
    "        mtag_game_count.append(summ.game_eliminated[summ.initial_player_count-1])\n",
    "    else:\n",
    "        tag_count += 1\n",
    "        tag_game_count.append(summ.game_eliminated[summ.initial_player_count-1])        \n",
    "\n",
    "print(f\"LAG tournament win count = {lag_count}\")\n",
    "print(f\"TAG tournament win count = {tag_count}\")\n",
    "print(f\"MTAG tournament win count = {mtag_count}\")\n",
    "\n",
    "print(f\"LAG average game count per tournament = {np.average(lag_game_count)}\")\n",
    "print(f\"TAG average game count per tournament = {np.average(tag_game_count)}\")\n",
    "print(f\"MTAG average game count per tournament = {np.average(mtag_game_count)}\")"
   ]
  },
  {
   "cell_type": "code",
   "execution_count": 20,
   "id": "e3750bb3-662a-4c49-8546-8545ab2020bb",
   "metadata": {
    "tags": []
   },
   "outputs": [
    {
     "name": "stdout",
     "output_type": "stream",
     "text": [
      "[ 39.  74.  84.  81. 117. 117. 123. 139. 138.  88.]\n",
      "[207. 155. 137. 123.  60.  59.  48.  39.  66. 106.]\n",
      "[ 54.  71.  79.  96. 123. 124. 129. 122.  96. 106.]\n"
     ]
    }
   ],
   "source": [
    "tag_finishing_order_arr = np.zeros(10)\n",
    "lag_finishing_order_arr = np.zeros(10)\n",
    "mtag_finishing_order_arr = np.zeros(10)\n",
    "\n",
    "for summ in summary_list:\n",
    "    for idx, plyr in enumerate(summ.finishing_order):\n",
    "        if summ.player_ai_types[plyr] == 3: # TAG\n",
    "            tag_finishing_order_arr[idx] += 1\n",
    "        elif summ.player_ai_types[plyr] == 4: # LAG\n",
    "            lag_finishing_order_arr[idx] += 1\n",
    "        elif summ.player_ai_types[plyr] == 5: # MTAG\n",
    "            mtag_finishing_order_arr[idx] += 1\n",
    "\n",
    "print(tag_finishing_order_arr)\n",
    "print(lag_finishing_order_arr)\n",
    "print(mtag_finishing_order_arr)"
   ]
  },
  {
   "cell_type": "code",
   "execution_count": 21,
   "id": "14ffe73f-4f40-4eff-a257-38a7badcf7a8",
   "metadata": {
    "tags": []
   },
   "outputs": [
    {
     "data": {
      "text/html": [
       "<div>\n",
       "<style scoped>\n",
       "    .dataframe tbody tr th:only-of-type {\n",
       "        vertical-align: middle;\n",
       "    }\n",
       "\n",
       "    .dataframe tbody tr th {\n",
       "        vertical-align: top;\n",
       "    }\n",
       "\n",
       "    .dataframe thead th {\n",
       "        text-align: right;\n",
       "    }\n",
       "</style>\n",
       "<table border=\"1\" class=\"dataframe\">\n",
       "  <thead>\n",
       "    <tr style=\"text-align: right;\">\n",
       "      <th></th>\n",
       "      <th>Result</th>\n",
       "      <th>TAG</th>\n",
       "      <th>LAG</th>\n",
       "      <th>MTAG</th>\n",
       "    </tr>\n",
       "  </thead>\n",
       "  <tbody>\n",
       "    <tr>\n",
       "      <th>0</th>\n",
       "      <td>10</td>\n",
       "      <td>39.0</td>\n",
       "      <td>207.0</td>\n",
       "      <td>54.0</td>\n",
       "    </tr>\n",
       "    <tr>\n",
       "      <th>1</th>\n",
       "      <td>9</td>\n",
       "      <td>74.0</td>\n",
       "      <td>155.0</td>\n",
       "      <td>71.0</td>\n",
       "    </tr>\n",
       "    <tr>\n",
       "      <th>2</th>\n",
       "      <td>8</td>\n",
       "      <td>84.0</td>\n",
       "      <td>137.0</td>\n",
       "      <td>79.0</td>\n",
       "    </tr>\n",
       "    <tr>\n",
       "      <th>3</th>\n",
       "      <td>7</td>\n",
       "      <td>81.0</td>\n",
       "      <td>123.0</td>\n",
       "      <td>96.0</td>\n",
       "    </tr>\n",
       "    <tr>\n",
       "      <th>4</th>\n",
       "      <td>6</td>\n",
       "      <td>117.0</td>\n",
       "      <td>60.0</td>\n",
       "      <td>123.0</td>\n",
       "    </tr>\n",
       "    <tr>\n",
       "      <th>5</th>\n",
       "      <td>5</td>\n",
       "      <td>117.0</td>\n",
       "      <td>59.0</td>\n",
       "      <td>124.0</td>\n",
       "    </tr>\n",
       "    <tr>\n",
       "      <th>6</th>\n",
       "      <td>4</td>\n",
       "      <td>123.0</td>\n",
       "      <td>48.0</td>\n",
       "      <td>129.0</td>\n",
       "    </tr>\n",
       "    <tr>\n",
       "      <th>7</th>\n",
       "      <td>3</td>\n",
       "      <td>139.0</td>\n",
       "      <td>39.0</td>\n",
       "      <td>122.0</td>\n",
       "    </tr>\n",
       "    <tr>\n",
       "      <th>8</th>\n",
       "      <td>2</td>\n",
       "      <td>138.0</td>\n",
       "      <td>66.0</td>\n",
       "      <td>96.0</td>\n",
       "    </tr>\n",
       "    <tr>\n",
       "      <th>9</th>\n",
       "      <td>1</td>\n",
       "      <td>88.0</td>\n",
       "      <td>106.0</td>\n",
       "      <td>106.0</td>\n",
       "    </tr>\n",
       "  </tbody>\n",
       "</table>\n",
       "</div>"
      ],
      "text/plain": [
       "   Result    TAG    LAG   MTAG\n",
       "0      10   39.0  207.0   54.0\n",
       "1       9   74.0  155.0   71.0\n",
       "2       8   84.0  137.0   79.0\n",
       "3       7   81.0  123.0   96.0\n",
       "4       6  117.0   60.0  123.0\n",
       "5       5  117.0   59.0  124.0\n",
       "6       4  123.0   48.0  129.0\n",
       "7       3  139.0   39.0  122.0\n",
       "8       2  138.0   66.0   96.0\n",
       "9       1   88.0  106.0  106.0"
      ]
     },
     "execution_count": 21,
     "metadata": {},
     "output_type": "execute_result"
    }
   ],
   "source": [
    "cnt = summ.initial_player_count\n",
    "mtag_lag_tag_df = pd.DataFrame(\n",
    "    {\n",
    "        \"Result\": [cnt-idx for idx in range(cnt)],\n",
    "        \"TAG\": [x for x in tag_finishing_order_arr],\n",
    "        \"LAG\": [x for x in lag_finishing_order_arr],\n",
    "        \"MTAG\": [x for x in mtag_finishing_order_arr],\n",
    "    }\n",
    ")\n",
    "mtag_lag_tag_df"
   ]
  },
  {
   "cell_type": "code",
   "execution_count": 22,
   "id": "4802d7f4-5c7e-4a86-9eed-df090d40c41e",
   "metadata": {
    "tags": []
   },
   "outputs": [
    {
     "data": {
      "text/plain": [
       "<Axes: xlabel='Result'>"
      ]
     },
     "execution_count": 22,
     "metadata": {},
     "output_type": "execute_result"
    },
    {
     "data": {
      "image/png": "[encoded data removed]",
      "text/plain": [
       "<Figure size 640x480 with 1 Axes>"
      ]
     },
     "metadata": {},
     "output_type": "display_data"
    }
   ],
   "source": [
    "mtag_lag_tag_df.set_index(\"Result\").plot(kind='bar', stacked=True)"
   ]
  },
  {
   "cell_type": "markdown",
   "id": "f562d69d-e03a-4c10-91a3-71c71454a1ac",
   "metadata": {},
   "source": [
    "### MTAG vs. LAG vs. TAG Results\n",
    "\n",
    "The pattern seems to hold with all three play styles in one tournament.  The LAG players still tend to be eliminated early in the tournament, and yet the LAGs won exactly as many tournaments as the MTAGs.  The TAGs and MTAGs had very similar early-tournament performance, but the MTAG took home more tournament wins.\n",
    "\n",
    "Overall, the MTAG appears to be a good compromise between the too-tight TAGs and the too-loose LAGs.\n",
    "\n",
    "### MTAG vs. Random Players\n",
    "\n",
    "Just for fun, I pit one MTAG player against 9 completely random players.  I was curious to see how many tournaments the MTAG would win."
   ]
  },
  {
   "cell_type": "code",
   "execution_count": 23,
   "id": "660a6aee-7bd9-41c4-b31c-fbab3f797459",
   "metadata": {},
   "outputs": [],
   "source": [
    "# Specify directory containing recorded tournaments and parse data\n",
    "tourn_directory = \"../../../recorded_games/2024-01-02/random/\"  # Must update this field\n",
    "summary_list = summarize_tournament_results(tourn_directory)"
   ]
  },
  {
   "cell_type": "code",
   "execution_count": 24,
   "id": "318465f2-aa28-4abe-98e0-2706a59d29bb",
   "metadata": {
    "tags": []
   },
   "outputs": [
    {
     "name": "stdout",
     "output_type": "stream",
     "text": [
      "Random tournament win count = 89\n",
      "MTAG tournament win count = 11\n",
      "Random average game count per tournament = 38.146067415730336\n",
      "MTAG average game count per tournament = 62.90909090909091\n"
     ]
    }
   ],
   "source": [
    "# Post-process tournament results\n",
    "###############################################################################\n",
    "random_count = 0\n",
    "mtag_count = 0\n",
    "\n",
    "random_game_count = []\n",
    "mtag_game_count = []\n",
    "\n",
    "for summ in summary_list:\n",
    "    tourn_winner = summ.finishing_order[summ.initial_player_count-1]\n",
    "    if summ.player_ai_types[tourn_winner] == 5:\n",
    "        mtag_count += 1\n",
    "        mtag_game_count.append(summ.game_eliminated[summ.initial_player_count-1])\n",
    "    elif summ.player_ai_types[tourn_winner] == 0:\n",
    "        random_count += 1\n",
    "        random_game_count.append(summ.game_eliminated[summ.initial_player_count-1])\n",
    "\n",
    "print(f\"Random tournament win count = {random_count}\")\n",
    "print(f\"MTAG tournament win count = {mtag_count}\")\n",
    "\n",
    "print(f\"Random average game count per tournament = {np.average(random_game_count)}\")\n",
    "print(f\"MTAG average game count per tournament = {np.average(mtag_game_count)}\")"
   ]
  },
  {
   "cell_type": "code",
   "execution_count": 27,
   "id": "16359885-fd3c-45fa-a384-15e7a00df328",
   "metadata": {
    "tags": []
   },
   "outputs": [
    {
     "data": {
      "text/html": [
       "<div>\n",
       "<style scoped>\n",
       "    .dataframe tbody tr th:only-of-type {\n",
       "        vertical-align: middle;\n",
       "    }\n",
       "\n",
       "    .dataframe tbody tr th {\n",
       "        vertical-align: top;\n",
       "    }\n",
       "\n",
       "    .dataframe thead th {\n",
       "        text-align: right;\n",
       "    }\n",
       "</style>\n",
       "<table border=\"1\" class=\"dataframe\">\n",
       "  <thead>\n",
       "    <tr style=\"text-align: right;\">\n",
       "      <th></th>\n",
       "      <th>Result</th>\n",
       "      <th>MTAG</th>\n",
       "      <th>Random</th>\n",
       "    </tr>\n",
       "  </thead>\n",
       "  <tbody>\n",
       "    <tr>\n",
       "      <th>0</th>\n",
       "      <td>10</td>\n",
       "      <td>0.0</td>\n",
       "      <td>100.0</td>\n",
       "    </tr>\n",
       "    <tr>\n",
       "      <th>1</th>\n",
       "      <td>9</td>\n",
       "      <td>0.0</td>\n",
       "      <td>100.0</td>\n",
       "    </tr>\n",
       "    <tr>\n",
       "      <th>2</th>\n",
       "      <td>8</td>\n",
       "      <td>0.0</td>\n",
       "      <td>100.0</td>\n",
       "    </tr>\n",
       "    <tr>\n",
       "      <th>3</th>\n",
       "      <td>7</td>\n",
       "      <td>0.0</td>\n",
       "      <td>100.0</td>\n",
       "    </tr>\n",
       "    <tr>\n",
       "      <th>4</th>\n",
       "      <td>6</td>\n",
       "      <td>0.0</td>\n",
       "      <td>100.0</td>\n",
       "    </tr>\n",
       "    <tr>\n",
       "      <th>5</th>\n",
       "      <td>5</td>\n",
       "      <td>1.0</td>\n",
       "      <td>99.0</td>\n",
       "    </tr>\n",
       "    <tr>\n",
       "      <th>6</th>\n",
       "      <td>4</td>\n",
       "      <td>1.0</td>\n",
       "      <td>99.0</td>\n",
       "    </tr>\n",
       "    <tr>\n",
       "      <th>7</th>\n",
       "      <td>3</td>\n",
       "      <td>1.0</td>\n",
       "      <td>99.0</td>\n",
       "    </tr>\n",
       "    <tr>\n",
       "      <th>8</th>\n",
       "      <td>2</td>\n",
       "      <td>86.0</td>\n",
       "      <td>14.0</td>\n",
       "    </tr>\n",
       "    <tr>\n",
       "      <th>9</th>\n",
       "      <td>1</td>\n",
       "      <td>11.0</td>\n",
       "      <td>89.0</td>\n",
       "    </tr>\n",
       "  </tbody>\n",
       "</table>\n",
       "</div>"
      ],
      "text/plain": [
       "   Result  MTAG  Random\n",
       "0      10   0.0   100.0\n",
       "1       9   0.0   100.0\n",
       "2       8   0.0   100.0\n",
       "3       7   0.0   100.0\n",
       "4       6   0.0   100.0\n",
       "5       5   1.0    99.0\n",
       "6       4   1.0    99.0\n",
       "7       3   1.0    99.0\n",
       "8       2  86.0    14.0\n",
       "9       1  11.0    89.0"
      ]
     },
     "execution_count": 27,
     "metadata": {},
     "output_type": "execute_result"
    }
   ],
   "source": [
    "mtag_finishing_order_arr = np.zeros(10)\n",
    "random_finishing_order_arr = np.zeros(10)\n",
    "\n",
    "for summ in summary_list:\n",
    "    for idx, plyr in enumerate(summ.finishing_order):\n",
    "        if summ.player_ai_types[plyr] == 5: # MTAG\n",
    "            mtag_finishing_order_arr[idx] += 1\n",
    "        elif summ.player_ai_types[plyr] == 0: # Random\n",
    "            random_finishing_order_arr[idx] += 1\n",
    "\n",
    "cnt = summ.initial_player_count\n",
    "mtag_random_df = pd.DataFrame(\n",
    "    {\n",
    "        \"Result\": [cnt-idx for idx in range(cnt)],\n",
    "        \"MTAG\": [x for x in mtag_finishing_order_arr],\n",
    "        \"Random\": [x for x in random_finishing_order_arr]\n",
    "    }\n",
    ")\n",
    "\n",
    "mtag_random_df"
   ]
  },
  {
   "cell_type": "code",
   "execution_count": 28,
   "id": "5e50697e-d43e-4208-ac21-ec92ff9d0d5c",
   "metadata": {
    "tags": []
   },
   "outputs": [
    {
     "data": {
      "text/plain": [
       "<Axes: xlabel='Result'>"
      ]
     },
     "execution_count": 28,
     "metadata": {},
     "output_type": "execute_result"
    },
    {
     "data": {
      "image/png": "[encoded data removed]",
      "text/plain": [
       "<Figure size 640x480 with 1 Axes>"
      ]
     },
     "metadata": {},
     "output_type": "display_data"
    }
   ],
   "source": [
    "mtag_random_df.set_index(\"Result\").plot(kind='bar', stacked=True)"
   ]
  },
  {
   "cell_type": "markdown",
   "id": "aa7770ab-f08c-4700-b84d-4cdd27095c7f",
   "metadata": {},
   "source": [
    "### MTAG vs. Random Players Results\n",
    "\n",
    "At first the results seemed shocking - 1 MTAG versus 9 random players and the MTAG only won 11/100 games.  That's a roughly 10% win rate, which is about the number of games it would be expected to win if it also was a random player.  Once the full tournament results are plotted the picture becomes more clear.  The MTAG player almost always made it to the tournament finals (97 out of 100 games) but got second place the vast majority of the time.  Without inspecting the games in detail, I'd imagine this is because the random players fed each other their chips by frequently betting or going all-in with terrible hands.  The average number of games for a tournament won by the random player was only 38 games.  Most likely there was a cascade of all-ins followed by player eliminations, and the MTAG player ended up in the finals against a random player with a chip stack 9 times larger than its own.  This is an extreme disadvantage, and one in which I would imagine that even a professional player would often lose to a beginner."
   ]
  },
  {
   "cell_type": "code",
   "execution_count": null,
   "id": "2349b27d-104f-4131-94f6-13743f594fa8",
   "metadata": {},
   "outputs": [],
   "source": []
  }
 ],
 "metadata": {
  "kernelspec": {
   "display_name": "Python 3 (ipykernel)",
   "language": "python",
   "name": "python3"
  },
  "language_info": {
   "codemirror_mode": {
    "name": "ipython",
    "version": 3
   },
   "file_extension": ".py",
   "mimetype": "text/x-python",
   "name": "python",
   "nbconvert_exporter": "python",
   "pygments_lexer": "ipython3",
   "version": "3.11.5"
  }
 },
 "nbformat": 4,
 "nbformat_minor": 5
}
