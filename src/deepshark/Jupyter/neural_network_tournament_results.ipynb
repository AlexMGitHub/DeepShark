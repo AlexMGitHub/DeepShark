{
 "cells": [
  {
   "cell_type": "markdown",
   "id": "63812b5e-4d0f-4b6b-9d72-f8a3de67154d",
   "metadata": {
    "tags": []
   },
   "source": [
    "## Parse and visualize Neural Network results\n",
    "\n",
    "After training a simple neural network using Pytorch, I ran the resulting model against some of the heuristic AI play styles.\n",
    "\n",
    "The neural network was trained on data obtained exclusively from the MTAG play style.  It should thus play more or less identically to the MTAG.  To confirm this, I re-ran the scenarios in the heuristic tournament results notebook.  The neural network is compared to the LAG, TAG, MTAG, and random play styles."
   ]
  },
  {
   "cell_type": "code",
   "execution_count": 1,
   "id": "51414887-7f80-4a35-a501-0b71dd329976",
   "metadata": {
    "tags": []
   },
   "outputs": [],
   "source": [
    "# Imports\n",
    "###############################################################################\n",
    "# Standard system imports\n",
    "import ctypes\n",
    "from os import listdir\n",
    "from os.path import isfile, join\n",
    "# Related third party imports\n",
    "import numpy as np\n",
    "import pandas as pd\n",
    "import seaborn as sns\n",
    "# Local application/library specific imports\n",
    "\n",
    "sns.set_style(\"darkgrid\")"
   ]
  },
  {
   "cell_type": "code",
   "execution_count": 2,
   "id": "c7f04758-3b3d-40ae-b700-8b353fcee265",
   "metadata": {
    "tags": []
   },
   "outputs": [],
   "source": [
    "# Classes used to contain data\n",
    "###############################################################################\n",
    "class TournamentSummary(ctypes.Structure):\n",
    "    \"\"\"Creates a tournament_summary struct.\"\"\"\n",
    "\n",
    "    _fields_ = [('tournament_number', ctypes.c_int),\n",
    "                ('random_seed', ctypes.c_int),\n",
    "                ('initial_player_count', ctypes.c_int),\n",
    "                ('player_ai_types', ctypes.POINTER(ctypes.c_int)),\n",
    "                ('finishing_order', ctypes.POINTER(ctypes.c_int)),\n",
    "                ('game_eliminated', ctypes.POINTER(ctypes.c_int)),\n",
    "                ('num_games', ctypes.c_size_t)]\n",
    "\n",
    "\n",
    "class PythonTournamentSummary:\n",
    "    \"\"\"Creates a tournament summary for parsing in Python.\"\"\"\n",
    "\n",
    "    def __init__(self, th, player_ai_types, finishing_order, game_eliminated):\n",
    "        self.tournament_number = th.tournament_number\n",
    "        self.random_seed = th.random_seed\n",
    "        self.initial_player_count = th.initial_player_count\n",
    "        self.player_ai_types = player_ai_types\n",
    "        self.finishing_order = finishing_order\n",
    "        self.game_eliminated = game_eliminated\n",
    "        self.num_games = th.num_games\n",
    "\n"
   ]
  },
  {
   "cell_type": "code",
   "execution_count": 3,
   "id": "cdae2685-aa4a-4492-94c5-4eacc62f0a69",
   "metadata": {
    "tags": []
   },
   "outputs": [
    {
     "name": "stdout",
     "output_type": "stream",
     "text": [
      "9\n"
     ]
    }
   ],
   "source": [
    "# Initialize and test C shared library\n",
    "###############################################################################\n",
    "# Location of C shared library\n",
    "c_lib = ctypes.CDLL(\"../../Cpp/lib/lib_deepshark.so\")\n",
    "# %% Set data types of test C function's arguments and return value\n",
    "add_ints = c_lib.add_ints\n",
    "add_ints.argtypes = [ctypes.c_int, ctypes.c_int]\n",
    "add_ints.restype = ctypes.c_int  # C function returns integer\n",
    "# Test C function\n",
    "result = add_ints(4, 5)\n",
    "print(result)"
   ]
  },
  {
   "cell_type": "code",
   "execution_count": 4,
   "id": "51c5b083-fdec-49fb-bdc9-610095094aa8",
   "metadata": {
    "tags": []
   },
   "outputs": [],
   "source": [
    "# Initalize C function to get tournament results\n",
    "###############################################################################\n",
    "tourn_summary = c_lib.get_tournament_summary\n",
    "tourn_summary.argtypes = [ctypes.POINTER(\n",
    "    TournamentSummary), ctypes.POINTER(ctypes.c_char)]\n",
    "tourn_summary.restype = None"
   ]
  },
  {
   "cell_type": "code",
   "execution_count": 5,
   "id": "fd4320a4-315e-4f44-b555-b08be23baf12",
   "metadata": {
    "tags": []
   },
   "outputs": [],
   "source": [
    "# Function to parse and store tournament results\n",
    "###############################################################################\n",
    "def summarize_tournament_results(tourn_directory):\n",
    "    tourn_files = [join(tourn_directory, f) for f in listdir(\n",
    "        tourn_directory) if isfile(join(tourn_directory, f))]\n",
    "    summary_list = list()\n",
    "    for tourn in tourn_files:\n",
    "        # Encode filename as a pointer to array of chars\n",
    "        b_fn = tourn.encode(\"utf-8\")  # create byte objects from the strings\n",
    "        filename = ctypes.c_char_p(b_fn)\n",
    "        # Instantiate struct to contain summary results\n",
    "        th = TournamentSummary()\n",
    "        th_ptr = ctypes.pointer(th)\n",
    "        \n",
    "        # Create NumPy arrays to store finishing order and game eliminated arrays\n",
    "        player_ai_types_arr = np.zeros(10, dtype=np.intc)\n",
    "        player_ai_types_ptr = player_ai_types_arr.ctypes.data_as(\n",
    "            ctypes.POINTER(ctypes.c_int))\n",
    "        th.player_ai_types = player_ai_types_ptr\n",
    "        \n",
    "        finishing_order_arr = np.zeros(10, dtype=np.intc)\n",
    "        finishing_order_ptr = finishing_order_arr.ctypes.data_as(\n",
    "            ctypes.POINTER(ctypes.c_int))\n",
    "        th.finishing_order = finishing_order_ptr\n",
    "\n",
    "        game_eliminated_arr = np.zeros(10, dtype=np.intc)\n",
    "        game_eliminated_ptr = game_eliminated_arr.ctypes.data_as(\n",
    "            ctypes.POINTER(ctypes.c_int))\n",
    "        th.game_eliminated = game_eliminated_ptr\n",
    "        \n",
    "        # Pass pointer to struct and filename to C function\n",
    "        tourn_summary(th_ptr, filename)\n",
    "        # Transfer results to Python class and append to list\n",
    "        pth = PythonTournamentSummary(th, player_ai_types_arr, finishing_order_arr, game_eliminated_arr)\n",
    "        summary_list.append(pth)\n",
    "    return summary_list"
   ]
  },
  {
   "cell_type": "markdown",
   "id": "606c7fb4-0ef2-4fb2-a3ad-337f1e9e08ce",
   "metadata": {},
   "source": [
    "## NN vs. LAG\n",
    "\n",
    "First, let's compare the performance of the neural network player to the loose-aggressive (LAG) player by simulating 100 ten-player tournaments.  Half the players in each tournament will be the neural network (NN) and the other half LAGs.  I simulated the tournaments and recorded the data to disk using the *generate_training_data.py* contained in `src/deepshark`.  For some reason running this code in a Jupyter notebook causes the Jupyter kernel to crash and restart, but it runs without issue from a Python script."
   ]
  },
  {
   "cell_type": "code",
   "execution_count": 6,
   "id": "26b262a1-74d1-4e7e-bea9-ea6deb0df893",
   "metadata": {
    "tags": []
   },
   "outputs": [],
   "source": [
    "# Specify directory containing recorded tournaments and parse data\n",
    "tourn_directory = \"../../../recorded_games/2024-01-10/nn_lag/\"  # Must update this field\n",
    "summary_list = summarize_tournament_results(tourn_directory)"
   ]
  },
  {
   "cell_type": "code",
   "execution_count": 7,
   "id": "1f701384-000b-466d-86c8-d15f3ba231f4",
   "metadata": {
    "tags": []
   },
   "outputs": [
    {
     "name": "stdout",
     "output_type": "stream",
     "text": [
      "LAG tournament win count = 55\n",
      "NN tournament win count = 45\n",
      "LAG average game count per tournament = 150.83636363636364\n",
      "NN average game count per tournament = 178.15555555555557\n"
     ]
    }
   ],
   "source": [
    "# Post-process tournament results\n",
    "###############################################################################\n",
    "lag_count = 0\n",
    "nn_count = 0\n",
    "\n",
    "lag_game_count = []\n",
    "nn_game_count = []\n",
    "\n",
    "for summ in summary_list:\n",
    "    tourn_winner = summ.finishing_order[summ.initial_player_count-1]\n",
    "    if summ.player_ai_types[tourn_winner] == 6:\n",
    "        nn_count += 1\n",
    "        nn_game_count.append(summ.game_eliminated[summ.initial_player_count-1])\n",
    "    elif summ.player_ai_types[tourn_winner] == 4:\n",
    "        lag_count += 1\n",
    "        lag_game_count.append(summ.game_eliminated[summ.initial_player_count-1])\n",
    "\n",
    "print(f\"LAG tournament win count = {lag_count}\")\n",
    "print(f\"NN tournament win count = {nn_count}\")\n",
    "\n",
    "print(f\"LAG average game count per tournament = {np.average(lag_game_count)}\")\n",
    "print(f\"NN average game count per tournament = {np.average(nn_game_count)}\")"
   ]
  },
  {
   "cell_type": "code",
   "execution_count": 8,
   "id": "d8032db7-70ac-49c1-84bb-6ec811951713",
   "metadata": {
    "tags": []
   },
   "outputs": [
    {
     "data": {
      "text/html": [
       "<div>\n",
       "<style scoped>\n",
       "    .dataframe tbody tr th:only-of-type {\n",
       "        vertical-align: middle;\n",
       "    }\n",
       "\n",
       "    .dataframe tbody tr th {\n",
       "        vertical-align: top;\n",
       "    }\n",
       "\n",
       "    .dataframe thead th {\n",
       "        text-align: right;\n",
       "    }\n",
       "</style>\n",
       "<table border=\"1\" class=\"dataframe\">\n",
       "  <thead>\n",
       "    <tr style=\"text-align: right;\">\n",
       "      <th></th>\n",
       "      <th>Result</th>\n",
       "      <th>NN</th>\n",
       "      <th>LAG</th>\n",
       "    </tr>\n",
       "  </thead>\n",
       "  <tbody>\n",
       "    <tr>\n",
       "      <th>0</th>\n",
       "      <td>10</td>\n",
       "      <td>49.0</td>\n",
       "      <td>51.0</td>\n",
       "    </tr>\n",
       "    <tr>\n",
       "      <th>1</th>\n",
       "      <td>9</td>\n",
       "      <td>50.0</td>\n",
       "      <td>50.0</td>\n",
       "    </tr>\n",
       "    <tr>\n",
       "      <th>2</th>\n",
       "      <td>8</td>\n",
       "      <td>48.0</td>\n",
       "      <td>52.0</td>\n",
       "    </tr>\n",
       "    <tr>\n",
       "      <th>3</th>\n",
       "      <td>7</td>\n",
       "      <td>52.0</td>\n",
       "      <td>48.0</td>\n",
       "    </tr>\n",
       "    <tr>\n",
       "      <th>4</th>\n",
       "      <td>6</td>\n",
       "      <td>50.0</td>\n",
       "      <td>50.0</td>\n",
       "    </tr>\n",
       "    <tr>\n",
       "      <th>5</th>\n",
       "      <td>5</td>\n",
       "      <td>52.0</td>\n",
       "      <td>48.0</td>\n",
       "    </tr>\n",
       "    <tr>\n",
       "      <th>6</th>\n",
       "      <td>4</td>\n",
       "      <td>50.0</td>\n",
       "      <td>50.0</td>\n",
       "    </tr>\n",
       "    <tr>\n",
       "      <th>7</th>\n",
       "      <td>3</td>\n",
       "      <td>46.0</td>\n",
       "      <td>54.0</td>\n",
       "    </tr>\n",
       "    <tr>\n",
       "      <th>8</th>\n",
       "      <td>2</td>\n",
       "      <td>58.0</td>\n",
       "      <td>42.0</td>\n",
       "    </tr>\n",
       "    <tr>\n",
       "      <th>9</th>\n",
       "      <td>1</td>\n",
       "      <td>45.0</td>\n",
       "      <td>55.0</td>\n",
       "    </tr>\n",
       "  </tbody>\n",
       "</table>\n",
       "</div>"
      ],
      "text/plain": [
       "   Result    NN   LAG\n",
       "0      10  49.0  51.0\n",
       "1       9  50.0  50.0\n",
       "2       8  48.0  52.0\n",
       "3       7  52.0  48.0\n",
       "4       6  50.0  50.0\n",
       "5       5  52.0  48.0\n",
       "6       4  50.0  50.0\n",
       "7       3  46.0  54.0\n",
       "8       2  58.0  42.0\n",
       "9       1  45.0  55.0"
      ]
     },
     "execution_count": 8,
     "metadata": {},
     "output_type": "execute_result"
    }
   ],
   "source": [
    "nn_finishing_order_arr = np.zeros(10)\n",
    "lag_finishing_order_arr = np.zeros(10)\n",
    "\n",
    "for summ in summary_list:\n",
    "    for idx, plyr in enumerate(summ.finishing_order):\n",
    "        if summ.player_ai_types[plyr] == 6: # NN\n",
    "            nn_finishing_order_arr[idx] += 1\n",
    "        elif summ.player_ai_types[plyr] == 4: # LAG\n",
    "            lag_finishing_order_arr[idx] += 1\n",
    "\n",
    "cnt = summ.initial_player_count\n",
    "nn_lag_df = pd.DataFrame(\n",
    "    {\n",
    "        \"Result\": [cnt-idx for idx in range(cnt)],\n",
    "        \"NN\": [x for x in nn_finishing_order_arr],\n",
    "        \"LAG\": [x for x in lag_finishing_order_arr]\n",
    "    }\n",
    ")\n",
    "\n",
    "nn_lag_df"
   ]
  },
  {
   "cell_type": "code",
   "execution_count": 9,
   "id": "f979de50-438c-4786-815a-f8dfc79b4223",
   "metadata": {
    "tags": []
   },
   "outputs": [
    {
     "data": {
      "text/plain": [
       "<Axes: xlabel='Result'>"
      ]
     },
     "execution_count": 9,
     "metadata": {},
     "output_type": "execute_result"
    },
    {
     "data": {
      "image/png": "[encoded data removed]",
      "text/plain": [
       "<Figure size 640x480 with 1 Axes>"
      ]
     },
     "metadata": {},
     "output_type": "display_data"
    }
   ],
   "source": [
    "nn_lag_df.set_index(\"Result\").plot(kind='bar', stacked=True)"
   ]
  },
  {
   "cell_type": "markdown",
   "id": "c815db5f-d243-4ac8-af07-3274115d4084",
   "metadata": {
    "tags": []
   },
   "source": [
    "### Tournament Results: NN vs. LAG\n",
    "\n",
    "The neural network and the LAG players have almost identical results.  The LAG player does have a slight advantage in tournament wins.  The MTAG player that the neural network was trained on did better versus the LAG in the early rounds, and had a very slight advantage in tournament wins (52 vs. 48) over the LAG.  It is encouraging to see that the neural network has roughly comparable results to the MTAG."
   ]
  },
  {
   "cell_type": "markdown",
   "id": "c9931a9b-d087-4438-a13c-c228c449e302",
   "metadata": {},
   "source": [
    "## NN vs. TAG\n",
    "\n",
    "Next, I performed the same scenario but with 5 NNs versus 5 TAGs."
   ]
  },
  {
   "cell_type": "code",
   "execution_count": 10,
   "id": "b6675f6d-74e7-408b-8d14-7fba78cebb66",
   "metadata": {
    "tags": []
   },
   "outputs": [],
   "source": [
    "# Specify directory containing recorded tournaments and parse data\n",
    "tourn_directory = \"../../../recorded_games/2024-01-10/nn_tag/\"  # Must update this field\n",
    "summary_list = summarize_tournament_results(tourn_directory)"
   ]
  },
  {
   "cell_type": "code",
   "execution_count": 11,
   "id": "5e779507-fd1d-406f-a755-9cfc24d8a226",
   "metadata": {
    "tags": []
   },
   "outputs": [
    {
     "name": "stdout",
     "output_type": "stream",
     "text": [
      "[72. 74. 72. 50. 41. 29. 34. 35. 34. 59.]\n",
      "[28. 26. 28. 50. 59. 71. 66. 65. 66. 41.]\n"
     ]
    }
   ],
   "source": [
    "# Post-process tournament results\n",
    "###############################################################################\n",
    "nn_finishing_order_arr = np.zeros(10)\n",
    "tag_finishing_order_arr = np.zeros(10)\n",
    "\n",
    "for summ in summary_list:\n",
    "    for idx, plyr in enumerate(summ.finishing_order):\n",
    "        if summ.player_ai_types[plyr] == 6: # NN\n",
    "            nn_finishing_order_arr[idx] += 1\n",
    "        elif summ.player_ai_types[plyr] == 3: # TAG\n",
    "            tag_finishing_order_arr[idx] += 1\n",
    "\n",
    "print(nn_finishing_order_arr)\n",
    "print(tag_finishing_order_arr)"
   ]
  },
  {
   "cell_type": "code",
   "execution_count": 12,
   "id": "b077100d-9e00-47ac-964f-c71201eaa464",
   "metadata": {
    "tags": []
   },
   "outputs": [
    {
     "data": {
      "text/html": [
       "<div>\n",
       "<style scoped>\n",
       "    .dataframe tbody tr th:only-of-type {\n",
       "        vertical-align: middle;\n",
       "    }\n",
       "\n",
       "    .dataframe tbody tr th {\n",
       "        vertical-align: top;\n",
       "    }\n",
       "\n",
       "    .dataframe thead th {\n",
       "        text-align: right;\n",
       "    }\n",
       "</style>\n",
       "<table border=\"1\" class=\"dataframe\">\n",
       "  <thead>\n",
       "    <tr style=\"text-align: right;\">\n",
       "      <th></th>\n",
       "      <th>Result</th>\n",
       "      <th>NN</th>\n",
       "      <th>TAG</th>\n",
       "    </tr>\n",
       "  </thead>\n",
       "  <tbody>\n",
       "    <tr>\n",
       "      <th>0</th>\n",
       "      <td>10</td>\n",
       "      <td>72.0</td>\n",
       "      <td>28.0</td>\n",
       "    </tr>\n",
       "    <tr>\n",
       "      <th>1</th>\n",
       "      <td>9</td>\n",
       "      <td>74.0</td>\n",
       "      <td>26.0</td>\n",
       "    </tr>\n",
       "    <tr>\n",
       "      <th>2</th>\n",
       "      <td>8</td>\n",
       "      <td>72.0</td>\n",
       "      <td>28.0</td>\n",
       "    </tr>\n",
       "    <tr>\n",
       "      <th>3</th>\n",
       "      <td>7</td>\n",
       "      <td>50.0</td>\n",
       "      <td>50.0</td>\n",
       "    </tr>\n",
       "    <tr>\n",
       "      <th>4</th>\n",
       "      <td>6</td>\n",
       "      <td>41.0</td>\n",
       "      <td>59.0</td>\n",
       "    </tr>\n",
       "    <tr>\n",
       "      <th>5</th>\n",
       "      <td>5</td>\n",
       "      <td>29.0</td>\n",
       "      <td>71.0</td>\n",
       "    </tr>\n",
       "    <tr>\n",
       "      <th>6</th>\n",
       "      <td>4</td>\n",
       "      <td>34.0</td>\n",
       "      <td>66.0</td>\n",
       "    </tr>\n",
       "    <tr>\n",
       "      <th>7</th>\n",
       "      <td>3</td>\n",
       "      <td>35.0</td>\n",
       "      <td>65.0</td>\n",
       "    </tr>\n",
       "    <tr>\n",
       "      <th>8</th>\n",
       "      <td>2</td>\n",
       "      <td>34.0</td>\n",
       "      <td>66.0</td>\n",
       "    </tr>\n",
       "    <tr>\n",
       "      <th>9</th>\n",
       "      <td>1</td>\n",
       "      <td>59.0</td>\n",
       "      <td>41.0</td>\n",
       "    </tr>\n",
       "  </tbody>\n",
       "</table>\n",
       "</div>"
      ],
      "text/plain": [
       "   Result    NN   TAG\n",
       "0      10  72.0  28.0\n",
       "1       9  74.0  26.0\n",
       "2       8  72.0  28.0\n",
       "3       7  50.0  50.0\n",
       "4       6  41.0  59.0\n",
       "5       5  29.0  71.0\n",
       "6       4  34.0  66.0\n",
       "7       3  35.0  65.0\n",
       "8       2  34.0  66.0\n",
       "9       1  59.0  41.0"
      ]
     },
     "execution_count": 12,
     "metadata": {},
     "output_type": "execute_result"
    }
   ],
   "source": [
    "cnt = summ.initial_player_count\n",
    "nn_tag_df = pd.DataFrame(\n",
    "    {\n",
    "        \"Result\": [cnt-idx for idx in range(cnt)],\n",
    "        \"NN\": [x for x in nn_finishing_order_arr],\n",
    "        \"TAG\": [x for x in tag_finishing_order_arr]\n",
    "    }\n",
    ")\n",
    "nn_tag_df"
   ]
  },
  {
   "cell_type": "code",
   "execution_count": 13,
   "id": "530f7ed6-feea-4c10-aa7f-ee0acae71da3",
   "metadata": {
    "tags": []
   },
   "outputs": [
    {
     "data": {
      "text/plain": [
       "<Axes: xlabel='Result'>"
      ]
     },
     "execution_count": 13,
     "metadata": {},
     "output_type": "execute_result"
    },
    {
     "data": {
      "image/png": "[encoded data removed]",
      "text/plain": [
       "<Figure size 640x480 with 1 Axes>"
      ]
     },
     "metadata": {},
     "output_type": "display_data"
    }
   ],
   "source": [
    "nn_tag_df.set_index(\"Result\").plot(kind='bar', stacked=True)"
   ]
  },
  {
   "cell_type": "markdown",
   "id": "51b2aa53-02b8-49b2-ba6b-26840b91fcbd",
   "metadata": {},
   "source": [
    "### NN vs. TAG Results\n",
    "\n",
    "The TAG has a distinct advantage in the early game, probably because the neural network learned to play a bit looser from the late-game MTAG data.  However, the neural network won significantly more tournaments (59 vs. 41) which is very close to the MTAG vs. TAG results of 62 vs. 38.  This again demonstrates that the neural network learned the MTAG play style well.\n",
    "\n",
    "## NN vs. MTAG\n",
    "\n",
    "Finally, the neural network will play against the MTAG - the play style that it was trained on.  My expectation at this point is that the results should be fairly even, with the MTAG having a slight edge."
   ]
  },
  {
   "cell_type": "code",
   "execution_count": 14,
   "id": "9266b647-f7c8-4aa4-ac70-7a1f25f07ccf",
   "metadata": {
    "tags": []
   },
   "outputs": [],
   "source": [
    "# Specify directory containing recorded tournaments and parse data\n",
    "tourn_directory = \"../../../recorded_games/2024-01-10/nn_mtag/\"  # Must update this field\n",
    "summary_list = summarize_tournament_results(tourn_directory)"
   ]
  },
  {
   "cell_type": "code",
   "execution_count": 15,
   "id": "33b6f503-40db-4790-9c3f-96a63b267a69",
   "metadata": {
    "tags": []
   },
   "outputs": [
    {
     "name": "stdout",
     "output_type": "stream",
     "text": [
      "[28. 26. 28. 50. 59. 71. 66. 64. 54. 54.]\n",
      "[72. 74. 72. 50. 41. 29. 34. 36. 46. 46.]\n"
     ]
    }
   ],
   "source": [
    "# Post-process tournament results\n",
    "###############################################################################\n",
    "mtag_finishing_order_arr = np.zeros(10)\n",
    "nn_finishing_order_arr = np.zeros(10)\n",
    "\n",
    "for summ in summary_list:\n",
    "    for idx, plyr in enumerate(summ.finishing_order):\n",
    "        if summ.player_ai_types[plyr] == 5: # MTAG\n",
    "            mtag_finishing_order_arr[idx] += 1\n",
    "        elif summ.player_ai_types[plyr] == 6: # NN\n",
    "            nn_finishing_order_arr[idx] += 1\n",
    "\n",
    "print(mtag_finishing_order_arr)\n",
    "print(nn_finishing_order_arr)"
   ]
  },
  {
   "cell_type": "code",
   "execution_count": 16,
   "id": "14ffe73f-4f40-4eff-a257-38a7badcf7a8",
   "metadata": {
    "tags": []
   },
   "outputs": [
    {
     "data": {
      "text/html": [
       "<div>\n",
       "<style scoped>\n",
       "    .dataframe tbody tr th:only-of-type {\n",
       "        vertical-align: middle;\n",
       "    }\n",
       "\n",
       "    .dataframe tbody tr th {\n",
       "        vertical-align: top;\n",
       "    }\n",
       "\n",
       "    .dataframe thead th {\n",
       "        text-align: right;\n",
       "    }\n",
       "</style>\n",
       "<table border=\"1\" class=\"dataframe\">\n",
       "  <thead>\n",
       "    <tr style=\"text-align: right;\">\n",
       "      <th></th>\n",
       "      <th>Result</th>\n",
       "      <th>MTAG</th>\n",
       "      <th>NN</th>\n",
       "    </tr>\n",
       "  </thead>\n",
       "  <tbody>\n",
       "    <tr>\n",
       "      <th>0</th>\n",
       "      <td>10</td>\n",
       "      <td>28.0</td>\n",
       "      <td>72.0</td>\n",
       "    </tr>\n",
       "    <tr>\n",
       "      <th>1</th>\n",
       "      <td>9</td>\n",
       "      <td>26.0</td>\n",
       "      <td>74.0</td>\n",
       "    </tr>\n",
       "    <tr>\n",
       "      <th>2</th>\n",
       "      <td>8</td>\n",
       "      <td>28.0</td>\n",
       "      <td>72.0</td>\n",
       "    </tr>\n",
       "    <tr>\n",
       "      <th>3</th>\n",
       "      <td>7</td>\n",
       "      <td>50.0</td>\n",
       "      <td>50.0</td>\n",
       "    </tr>\n",
       "    <tr>\n",
       "      <th>4</th>\n",
       "      <td>6</td>\n",
       "      <td>59.0</td>\n",
       "      <td>41.0</td>\n",
       "    </tr>\n",
       "    <tr>\n",
       "      <th>5</th>\n",
       "      <td>5</td>\n",
       "      <td>71.0</td>\n",
       "      <td>29.0</td>\n",
       "    </tr>\n",
       "    <tr>\n",
       "      <th>6</th>\n",
       "      <td>4</td>\n",
       "      <td>66.0</td>\n",
       "      <td>34.0</td>\n",
       "    </tr>\n",
       "    <tr>\n",
       "      <th>7</th>\n",
       "      <td>3</td>\n",
       "      <td>64.0</td>\n",
       "      <td>36.0</td>\n",
       "    </tr>\n",
       "    <tr>\n",
       "      <th>8</th>\n",
       "      <td>2</td>\n",
       "      <td>54.0</td>\n",
       "      <td>46.0</td>\n",
       "    </tr>\n",
       "    <tr>\n",
       "      <th>9</th>\n",
       "      <td>1</td>\n",
       "      <td>54.0</td>\n",
       "      <td>46.0</td>\n",
       "    </tr>\n",
       "  </tbody>\n",
       "</table>\n",
       "</div>"
      ],
      "text/plain": [
       "   Result  MTAG    NN\n",
       "0      10  28.0  72.0\n",
       "1       9  26.0  74.0\n",
       "2       8  28.0  72.0\n",
       "3       7  50.0  50.0\n",
       "4       6  59.0  41.0\n",
       "5       5  71.0  29.0\n",
       "6       4  66.0  34.0\n",
       "7       3  64.0  36.0\n",
       "8       2  54.0  46.0\n",
       "9       1  54.0  46.0"
      ]
     },
     "execution_count": 16,
     "metadata": {},
     "output_type": "execute_result"
    }
   ],
   "source": [
    "cnt = summ.initial_player_count\n",
    "mtag_vs_nn_df = pd.DataFrame(\n",
    "    {\n",
    "        \"Result\": [cnt-idx for idx in range(cnt)],\n",
    "        \"MTAG\": [x for x in mtag_finishing_order_arr],\n",
    "        \"NN\": [x for x in nn_finishing_order_arr]\n",
    "    }\n",
    ")\n",
    "mtag_vs_nn_df"
   ]
  },
  {
   "cell_type": "code",
   "execution_count": 17,
   "id": "4802d7f4-5c7e-4a86-9eed-df090d40c41e",
   "metadata": {
    "tags": []
   },
   "outputs": [
    {
     "data": {
      "text/plain": [
       "<Axes: xlabel='Result'>"
      ]
     },
     "execution_count": 17,
     "metadata": {},
     "output_type": "execute_result"
    },
    {
     "data": {
      "image/png": "[encoded data removed]",
      "text/plain": [
       "<Figure size 640x480 with 1 Axes>"
      ]
     },
     "metadata": {},
     "output_type": "display_data"
    }
   ],
   "source": [
    "mtag_vs_nn_df.set_index(\"Result\").plot(kind='bar', stacked=True)"
   ]
  },
  {
   "cell_type": "markdown",
   "id": "f562d69d-e03a-4c10-91a3-71c71454a1ac",
   "metadata": {},
   "source": [
    "### NN vs. MTAG Results\n",
    "\n",
    "The MTAG player had better performance in the early game, which makes sense given this is the same pattern as in the NN vs. Tag games.  The neural network seems to have learned a slightly looser play style, and so is punished earlier in the tournament.  However, the tournament wins are quite close (54 MTAG vs. 46 NN) as would be expected since the neural network's play style is close to identical to the MTAG.\n",
    "\n",
    "### NN vs. Random Players\n",
    "\n",
    "And since I had the MTAG play against random players in the previous experiments, I had the neural network try its hand against the random players as well."
   ]
  },
  {
   "cell_type": "code",
   "execution_count": 18,
   "id": "660a6aee-7bd9-41c4-b31c-fbab3f797459",
   "metadata": {},
   "outputs": [],
   "source": [
    "# Specify directory containing recorded tournaments and parse data\n",
    "tourn_directory = \"../../../recorded_games/2024-01-10/nn_random/\"  # Must update this field\n",
    "summary_list = summarize_tournament_results(tourn_directory)"
   ]
  },
  {
   "cell_type": "code",
   "execution_count": 19,
   "id": "318465f2-aa28-4abe-98e0-2706a59d29bb",
   "metadata": {
    "tags": []
   },
   "outputs": [
    {
     "name": "stdout",
     "output_type": "stream",
     "text": [
      "Random tournament win count = 18\n",
      "NN tournament win count = 82\n",
      "Random average game count per tournament = 87.94444444444444\n",
      "NN average game count per tournament = 180.0487804878049\n"
     ]
    }
   ],
   "source": [
    "# Post-process tournament results\n",
    "###############################################################################\n",
    "random_count = 0\n",
    "nn_count = 0\n",
    "\n",
    "random_game_count = []\n",
    "nn_game_count = []\n",
    "\n",
    "for summ in summary_list:\n",
    "    tourn_winner = summ.finishing_order[summ.initial_player_count-1]\n",
    "    if summ.player_ai_types[tourn_winner] == 6:\n",
    "        nn_count += 1\n",
    "        nn_game_count.append(summ.game_eliminated[summ.initial_player_count-1])\n",
    "    elif summ.player_ai_types[tourn_winner] == 0:\n",
    "        random_count += 1\n",
    "        random_game_count.append(summ.game_eliminated[summ.initial_player_count-1])\n",
    "\n",
    "print(f\"Random tournament win count = {random_count}\")\n",
    "print(f\"NN tournament win count = {nn_count}\")\n",
    "\n",
    "print(f\"Random average game count per tournament = {np.average(random_game_count)}\")\n",
    "print(f\"NN average game count per tournament = {np.average(nn_game_count)}\")"
   ]
  },
  {
   "cell_type": "code",
   "execution_count": 20,
   "id": "16359885-fd3c-45fa-a384-15e7a00df328",
   "metadata": {
    "tags": []
   },
   "outputs": [
    {
     "data": {
      "text/html": [
       "<div>\n",
       "<style scoped>\n",
       "    .dataframe tbody tr th:only-of-type {\n",
       "        vertical-align: middle;\n",
       "    }\n",
       "\n",
       "    .dataframe tbody tr th {\n",
       "        vertical-align: top;\n",
       "    }\n",
       "\n",
       "    .dataframe thead th {\n",
       "        text-align: right;\n",
       "    }\n",
       "</style>\n",
       "<table border=\"1\" class=\"dataframe\">\n",
       "  <thead>\n",
       "    <tr style=\"text-align: right;\">\n",
       "      <th></th>\n",
       "      <th>Result</th>\n",
       "      <th>NN</th>\n",
       "      <th>Random</th>\n",
       "    </tr>\n",
       "  </thead>\n",
       "  <tbody>\n",
       "    <tr>\n",
       "      <th>0</th>\n",
       "      <td>10</td>\n",
       "      <td>6.0</td>\n",
       "      <td>94.0</td>\n",
       "    </tr>\n",
       "    <tr>\n",
       "      <th>1</th>\n",
       "      <td>9</td>\n",
       "      <td>2.0</td>\n",
       "      <td>98.0</td>\n",
       "    </tr>\n",
       "    <tr>\n",
       "      <th>2</th>\n",
       "      <td>8</td>\n",
       "      <td>4.0</td>\n",
       "      <td>96.0</td>\n",
       "    </tr>\n",
       "    <tr>\n",
       "      <th>3</th>\n",
       "      <td>7</td>\n",
       "      <td>13.0</td>\n",
       "      <td>87.0</td>\n",
       "    </tr>\n",
       "    <tr>\n",
       "      <th>4</th>\n",
       "      <td>6</td>\n",
       "      <td>59.0</td>\n",
       "      <td>41.0</td>\n",
       "    </tr>\n",
       "    <tr>\n",
       "      <th>5</th>\n",
       "      <td>5</td>\n",
       "      <td>71.0</td>\n",
       "      <td>29.0</td>\n",
       "    </tr>\n",
       "    <tr>\n",
       "      <th>6</th>\n",
       "      <td>4</td>\n",
       "      <td>78.0</td>\n",
       "      <td>22.0</td>\n",
       "    </tr>\n",
       "    <tr>\n",
       "      <th>7</th>\n",
       "      <td>3</td>\n",
       "      <td>90.0</td>\n",
       "      <td>10.0</td>\n",
       "    </tr>\n",
       "    <tr>\n",
       "      <th>8</th>\n",
       "      <td>2</td>\n",
       "      <td>95.0</td>\n",
       "      <td>5.0</td>\n",
       "    </tr>\n",
       "    <tr>\n",
       "      <th>9</th>\n",
       "      <td>1</td>\n",
       "      <td>82.0</td>\n",
       "      <td>18.0</td>\n",
       "    </tr>\n",
       "  </tbody>\n",
       "</table>\n",
       "</div>"
      ],
      "text/plain": [
       "   Result    NN  Random\n",
       "0      10   6.0    94.0\n",
       "1       9   2.0    98.0\n",
       "2       8   4.0    96.0\n",
       "3       7  13.0    87.0\n",
       "4       6  59.0    41.0\n",
       "5       5  71.0    29.0\n",
       "6       4  78.0    22.0\n",
       "7       3  90.0    10.0\n",
       "8       2  95.0     5.0\n",
       "9       1  82.0    18.0"
      ]
     },
     "execution_count": 20,
     "metadata": {},
     "output_type": "execute_result"
    }
   ],
   "source": [
    "nn_finishing_order_arr = np.zeros(10)\n",
    "random_finishing_order_arr = np.zeros(10)\n",
    "\n",
    "for summ in summary_list:\n",
    "    for idx, plyr in enumerate(summ.finishing_order):\n",
    "        if summ.player_ai_types[plyr] == 6: # NN\n",
    "            nn_finishing_order_arr[idx] += 1\n",
    "        elif summ.player_ai_types[plyr] == 0: # Random\n",
    "            random_finishing_order_arr[idx] += 1\n",
    "\n",
    "cnt = summ.initial_player_count\n",
    "nn_random_df = pd.DataFrame(\n",
    "    {\n",
    "        \"Result\": [cnt-idx for idx in range(cnt)],\n",
    "        \"NN\": [x for x in nn_finishing_order_arr],\n",
    "        \"Random\": [x for x in random_finishing_order_arr]\n",
    "    }\n",
    ")\n",
    "\n",
    "nn_random_df"
   ]
  },
  {
   "cell_type": "code",
   "execution_count": 21,
   "id": "5e50697e-d43e-4208-ac21-ec92ff9d0d5c",
   "metadata": {
    "tags": []
   },
   "outputs": [
    {
     "data": {
      "text/plain": [
       "<Axes: xlabel='Result'>"
      ]
     },
     "execution_count": 21,
     "metadata": {},
     "output_type": "execute_result"
    },
    {
     "data": {
      "image/png": "[encoded data removed]",
      "text/plain": [
       "<Figure size 640x480 with 1 Axes>"
      ]
     },
     "metadata": {},
     "output_type": "display_data"
    }
   ],
   "source": [
    "nn_random_df.set_index(\"Result\").plot(kind='bar', stacked=True)"
   ]
  },
  {
   "cell_type": "markdown",
   "id": "aa7770ab-f08c-4700-b84d-4cdd27095c7f",
   "metadata": {},
   "source": [
    "### NN vs. Random Players Results\n",
    "\n",
    "It wasn't a complete shut-out in the early game like it was for the MTAG players, but still the neural network convincingly trounced the random players.  The final tournament wins are similar to the MTAG, and probably for similar reasons - the random players fed each other an enormous amount of chips."
   ]
  },
  {
   "cell_type": "markdown",
   "id": "7efa844f-77e2-48dd-8964-3c45f8a190b9",
   "metadata": {},
   "source": [
    "## Conclusion\n",
    "\n",
    "The goal of this project was to learn how to implement a C++ game environment that could be called from Python, and that could use models trained in PyTorch to represent the agent.  This lays the ground work for a much more computationally efficient deep reinforcement learning workflow.  Again, the game of Texas Hold 'Em is a somewhat trivial application of this approach, and does not warrant the time and effort to further train an agent using reinforcement learning.  That time would be better spent applying this workflow to a more significant RL task."
   ]
  },
  {
   "cell_type": "code",
   "execution_count": null,
   "id": "973b05c9-8226-4892-8515-7aa0b8d15e25",
   "metadata": {},
   "outputs": [],
   "source": []
  }
 ],
 "metadata": {
  "kernelspec": {
   "display_name": "Python 3 (ipykernel)",
   "language": "python",
   "name": "python3"
  },
  "language_info": {
   "codemirror_mode": {
    "name": "ipython",
    "version": 3
   },
   "file_extension": ".py",
   "mimetype": "text/x-python",
   "name": "python",
   "nbconvert_exporter": "python",
   "pygments_lexer": "ipython3",
   "version": "3.11.5"
  }
 },
 "nbformat": 4,
 "nbformat_minor": 5
}
