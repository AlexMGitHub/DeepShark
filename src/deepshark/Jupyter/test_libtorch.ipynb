{
 "cells": [
  {
   "cell_type": "markdown",
   "id": "a13515b1-bcd4-4013-bb74-27eff8595493",
   "metadata": {
    "tags": []
   },
   "source": [
    "# Generate PyTorch model to test LibTorch C++ API\n",
    "\n",
    "Code taken from the [Loading a TorchScript Model in C++](https://pytorch.org/tutorials/advanced/cpp_export.html) tutorial."
   ]
  },
  {
   "cell_type": "code",
   "execution_count": null,
   "id": "27dddec4-8e1d-486f-b206-f0a226d0f19c",
   "metadata": {},
   "outputs": [],
   "source": [
    "import torch\n",
    "import torchvision\n",
    "\n",
    "# An instance of your model.\n",
    "model = torchvision.models.resnet18()\n",
    "\n",
    "# An example input you would normally provide to your model's forward() method.\n",
    "example = torch.rand(1, 3, 224, 224)\n",
    "\n",
    "# Use torch.jit.trace to generate a torch.jit.ScriptModule via tracing.\n",
    "traced_script_module = torch.jit.trace(model, example)"
   ]
  },
  {
   "cell_type": "code",
   "execution_count": 2,
   "id": "af5cd494-7cef-401c-9cf5-261d2bf58a48",
   "metadata": {
    "tags": []
   },
   "outputs": [
    {
     "data": {
      "text/plain": [
       "tensor([-0.1214,  0.0679, -0.0344, -0.4183, -0.5370], grad_fn=<SliceBackward0>)"
      ]
     },
     "execution_count": 2,
     "metadata": {},
     "output_type": "execute_result"
    }
   ],
   "source": [
    "output = traced_script_module(torch.ones(1, 3, 224, 224))\n",
    "output[0, :5]"
   ]
  },
  {
   "cell_type": "code",
   "execution_count": 4,
   "id": "fa4a2630-fe95-4c9f-bc49-d29a5f94064d",
   "metadata": {
    "tags": []
   },
   "outputs": [],
   "source": [
    "traced_script_module.save(\"../../Cpp/tests/libtorch/traced_resnet_model.pt\")"
   ]
  },
  {
   "cell_type": "code",
   "execution_count": null,
   "id": "f7ba3119-6dbd-46af-9ad2-026b320de9f0",
   "metadata": {},
   "outputs": [],
   "source": []
  }
 ],
 "metadata": {
  "kernelspec": {
   "display_name": "Python 3 (ipykernel)",
   "language": "python",
   "name": "python3"
  },
  "language_info": {
   "codemirror_mode": {
    "name": "ipython",
    "version": 3
   },
   "file_extension": ".py",
   "mimetype": "text/x-python",
   "name": "python",
   "nbconvert_exporter": "python",
   "pygments_lexer": "ipython3",
   "version": "3.11.5"
  }
 },
 "nbformat": 4,
 "nbformat_minor": 5
}
